{
  "nbformat": 4,
  "nbformat_minor": 0,
  "metadata": {
    "colab": {
      "provenance": [],
      "collapsed_sections": [
        "-RQ-p9GSSOUV"
      ]
    },
    "kernelspec": {
      "name": "python3",
      "display_name": "Python 3"
    },
    "language_info": {
      "name": "python"
    }
  },
  "cells": [
    {
      "cell_type": "markdown",
      "source": [
        "# Building and AI football scouting agents with LangChain\n"
      ],
      "metadata": {
        "id": "itHDUcKahGBa"
      }
    },
    {
      "cell_type": "markdown",
      "source": [
        "### **About the project**  \n",
        "\n",
        "In this notebook, we will demonstrate how to build a **multi-agent system** using LangChain for a **football scouting process**.  \n",
        "\n",
        "The process involves 5 key components:  \n",
        "\n",
        "##### Step 1: AI Scout Creation  \n",
        "- Create multiple virtual scouts with varied experience, expertise, and areas of focus.\n",
        "\n",
        "##### Step 2: News Retrieval  \n",
        "- Query the web for relevant news articles based on the scouts' specific focus areas.\n",
        "\n",
        "##### Step 3: Entity Extraction  \n",
        "- Extract player names and associated teams from the retrieved content.\n",
        "\n",
        "##### Step 4: Football Data API Integration  \n",
        "- Access player statistics and performance data via a Football Data API.\n",
        "\n",
        "##### Step 5: Expert Analysis  \n",
        "- Analyze the gathered data and generate detailed reports on top football talent.\n",
        "\n",
        "\n"
      ],
      "metadata": {
        "id": "0kCiCJGihWiF"
      }
    },
    {
      "cell_type": "markdown",
      "source": [
        "## install requirements"
      ],
      "metadata": {
        "id": "MDg3A4vdhR-6"
      }
    },
    {
      "cell_type": "code",
      "execution_count": 1,
      "metadata": {
        "id": "NpDF0HOj4rET"
      },
      "outputs": [],
      "source": [
        "!pip install --quiet -U langgraph  langchain_experimental langchain_openai langchain_community langchain_core tavily-python wikipedia"
      ]
    },
    {
      "cell_type": "markdown",
      "source": [
        "### Set up credentials"
      ],
      "metadata": {
        "id": "-RQ-p9GSSOUV"
      }
    },
    {
      "cell_type": "code",
      "source": [
        "import os, getpass\n",
        "def _set_env(var: str):\n",
        "    if not os.environ.get(var):\n",
        "        os.environ[var] = getpass.getpass(f\"{var}: \")"
      ],
      "metadata": {
        "id": "QcLij57SSFst"
      },
      "execution_count": 1,
      "outputs": []
    },
    {
      "cell_type": "code",
      "source": [
        "_set_env(\"OPENAI_API_KEY\")"
      ],
      "metadata": {
        "colab": {
          "base_uri": "https://localhost:8080/"
        },
        "id": "c_QK6N7L5Fmv",
        "outputId": "9b3974e6-7b45-4373-bd12-e7047b482d27"
      },
      "execution_count": 5,
      "outputs": [
        {
          "name": "stdout",
          "output_type": "stream",
          "text": [
            "OPENAI_API_KEY: ··········\n"
          ]
        }
      ]
    },
    {
      "cell_type": "code",
      "source": [
        "_set_env(\"LANGCHAIN_API_KEY\")"
      ],
      "metadata": {
        "colab": {
          "base_uri": "https://localhost:8080/"
        },
        "id": "7FiCxF5Z5R-K",
        "outputId": "8a761b7c-077b-4138-f00b-06225a4556a3"
      },
      "execution_count": 6,
      "outputs": [
        {
          "name": "stdout",
          "output_type": "stream",
          "text": [
            "LANGCHAIN_API_KEY: ··········\n"
          ]
        }
      ]
    },
    {
      "cell_type": "code",
      "source": [
        "_set_env(\"TAVILY_API_KEY\")"
      ],
      "metadata": {
        "colab": {
          "base_uri": "https://localhost:8080/"
        },
        "id": "352xLCCl5W3M",
        "outputId": "ea2b01ab-51ca-4192-8cc6-160fdb5b508c"
      },
      "execution_count": 7,
      "outputs": [
        {
          "name": "stdout",
          "output_type": "stream",
          "text": [
            "TAVILY_API_KEY: ··········\n"
          ]
        }
      ]
    },
    {
      "cell_type": "code",
      "source": [
        "_set_env(\"FOOTBALL_API_KEY\")"
      ],
      "metadata": {
        "colab": {
          "base_uri": "https://localhost:8080/"
        },
        "id": "26zDTM6uYcLn",
        "outputId": "655318c0-d3ac-4b3c-dbf2-4bcfc7824630"
      },
      "execution_count": 9,
      "outputs": [
        {
          "name": "stdout",
          "output_type": "stream",
          "text": [
            "FOOTBALL_API_KEY: ··········\n"
          ]
        }
      ]
    },
    {
      "cell_type": "code",
      "source": [
        "os.environ[\"LANGCHAIN_TRACING_V2\"] = \"true\"\n",
        "os.environ[\"LANGCHAIN_PROJECT\"] = \"football-analyst\""
      ],
      "metadata": {
        "id": "VqpZ1Y840aXX"
      },
      "execution_count": 8,
      "outputs": []
    },
    {
      "cell_type": "markdown",
      "source": [
        "## **1.Generate AI Scouts**  \n",
        "\n",
        "In this section, we will create a list of fictional AI scouts using a streamlined workflow.  \n",
        "\n",
        "The process involves:  \n",
        "1. The AI generating an initial list of scouts.  \n",
        "2. The user providing feedback to refine and improve the output.  \n",
        "\n",
        "This approach can also be extended to automate the creation of an entire AI scout team.  "
      ],
      "metadata": {
        "id": "JONtIG_MSn3S"
      }
    },
    {
      "cell_type": "code",
      "source": [
        "from typing import List, Annotated\n",
        "from typing_extensions import TypedDict\n",
        "from pydantic import BaseModel, Field\n",
        "from langgraph.graph import START,END, StateGraph\n",
        "from langgraph.types import Command, interrupt\n",
        "\n",
        "from langgraph.checkpoint.memory import MemorySaver\n",
        "from langchain_core.messages import HumanMessage,AIMessage,SystemMessage,BaseMessage\n",
        "from langchain_experimental.utilities import PythonREPL\n",
        "from IPython.display import Image, display\n",
        "from langchain_openai import ChatOpenAI\n"
      ],
      "metadata": {
        "id": "aaLh5Y2F5eTQ"
      },
      "execution_count": 10,
      "outputs": []
    },
    {
      "cell_type": "code",
      "source": [
        "# Define the LLM\n",
        "llm = ChatOpenAI(model=\"gpt-4o\", temperature=0)"
      ],
      "metadata": {
        "id": "BPrtNAWO-HQo"
      },
      "execution_count": 11,
      "outputs": []
    },
    {
      "cell_type": "code",
      "source": [
        "# Define classes for Langgraph\n",
        "class FootBallScout(BaseModel):\n",
        "  name:str=Field(description=\"Name of the scout\")\n",
        "  location:str=Field(description=\"Location of the scout\")\n",
        "  description:str=Field(description=\"Description of the scout\")\n",
        "\n",
        "class ScoutingTeam(BaseModel):\n",
        "  scouts: List[FootBallScout] = Field(\n",
        "      description=\"Comprehensive list of scouts with their speciality and locations.\",\n",
        "  )\n",
        "class GenerateScoutsState(TypedDict):\n",
        "  leagues: List[str]\n",
        "  topic: str\n",
        "  max_scouts: int\n",
        "  human_feedback: str\n",
        "  scouts: List[FootBallScout]\n"
      ],
      "metadata": {
        "id": "KA0VxY2h6hka"
      },
      "execution_count": 12,
      "outputs": []
    },
    {
      "cell_type": "code",
      "source": [
        "create_scouts_instructions=\"\"\"\n",
        "You are tasked with creating a set of AI Football Scout personas. Follow these instructions carefully:\n",
        "\n",
        "1. **Review the Topic**:\n",
        "   Examine the provided topic: {topic}\n",
        "\n",
        "2. **Assign Scouts to Leagues**:\n",
        "   - Ensure each scout is assigned to one league from the list: {leagues}.\n",
        "   -  Make sure to have exactly {max_scouts} scouts.\n",
        "   - It is acceptable for multiple scouts to be assigned to the same league, but aim for diversity.\n",
        "\n",
        "3. **Incorporate Feedback**:\n",
        "   - Review any optional human feedback provided to guide the creation of scouts: {human_feedback}.\n",
        "\n",
        "4. **Assign Scouts**:\n",
        "   - Assign one scout persona to each selected theme (including expertise,focus and experiences).\n",
        "   \"\"\"\n",
        "\n",
        "def create_scouts(state: GenerateScoutsState):\n",
        "    \"\"\"\n",
        "    Create Scouts based on the provided state.\n",
        "\n",
        "    \"\"\"\n",
        "    topic = state['topic']\n",
        "    leagues = state[\"leagues\"]\n",
        "    max_scouts = state['max_scouts']\n",
        "    human_feedback = state.get('human_feedback', '')\n",
        "\n",
        "    # Enforce structured output with the LLM\n",
        "    structured_llm = llm.with_structured_output(ScoutingTeam)\n",
        "\n",
        "    # Format the system message using the instructions\n",
        "    system_message = create_scouts_instructions.format(\n",
        "        topic=topic,\n",
        "        leagues=\", \".join(leagues),  # Convert list of leagues to a readable string\n",
        "        human_feedback=human_feedback,\n",
        "        max_scouts=max_scouts\n",
        "    )\n",
        "\n",
        "    # Generate the scouts using the LLM\n",
        "    scouts = structured_llm.invoke(\n",
        "        [SystemMessage(content=system_message)] + [HumanMessage(content=\"Generate the team of scouts.\")]\n",
        "    )\n",
        "\n",
        "    # Return the generated scouts\n",
        "    return {\"scouts\": scouts.scouts}"
      ],
      "metadata": {
        "id": "SW4A83gs9vWo"
      },
      "execution_count": 13,
      "outputs": []
    },
    {
      "cell_type": "code",
      "source": [
        "def get_human_feedback(state: GenerateScoutsState):\n",
        "  pass\n",
        "\n",
        "def should_continue(state: GenerateScoutsState):\n",
        "  \"\"\" Return the next node to execute \"\"\"\n",
        "\n",
        "  # Check if human feedback\n",
        "  human_feedback=state.get('human_feedback', None)\n",
        "  if human_feedback:\n",
        "    print(\"----------After Human Feedback--------------\")\n",
        "    return \"create_scouts\"\n",
        "\n",
        "  # Otherwise end\n",
        "  return END\n",
        "\n",
        "# Add nodes and edges\n",
        "builder = StateGraph(GenerateScoutsState)\n",
        "builder.add_node(\"create_scouts\", create_scouts)\n",
        "builder.add_node(\"get_human_feedback\", get_human_feedback)\n",
        "builder.add_edge(START, \"create_scouts\")\n",
        "builder.add_edge(\"create_scouts\", \"get_human_feedback\")\n",
        "builder.add_conditional_edges(\"get_human_feedback\", should_continue, [\"create_scouts\", END])\n",
        "\n",
        "# Compile\n",
        "memory = MemorySaver()\n",
        "graph = builder.compile(interrupt_before=['get_human_feedback'], checkpointer=memory)\n",
        "\n",
        "# View\n",
        "display(Image(graph.get_graph(xray=1).draw_mermaid_png()))"
      ],
      "metadata": {
        "colab": {
          "base_uri": "https://localhost:8080/",
          "height": 392
        },
        "id": "uY8EooPr_gV0",
        "outputId": "53cc0627-d735-41da-c909-652a666debd5"
      },
      "execution_count": 14,
      "outputs": [
        {
          "output_type": "display_data",
          "data": {
            "image/png": "[encoded data removed]",
            "text/plain": [
              "<IPython.core.display.Image object>"
            ]
          },
          "metadata": {}
        }
      ]
    },
    {
      "cell_type": "markdown",
      "source": [
        "### [Optional] Get human feedback and improve the results"
      ],
      "metadata": {
        "id": "I0KMntqSdtHV"
      }
    },
    {
      "cell_type": "code",
      "source": [
        "# Input\n",
        "topic = \"Best young defenders in the Premier League for the 2024 season\"\n",
        "leagues = [\"Spanish\", \"English\", \"French\", \"Italian\", \"Scottish\", \"Belgian\", \"German\"]\n",
        "thread = {\"configurable\": {\"thread_id\": \"44\"}}\n",
        "max_scouts = 3\n",
        "\n",
        "for event in graph.stream({\"topic\":topic,\"max_scouts\":max_scouts,\"leagues\":leagues}, thread, stream_mode=\"values\"):\n",
        "  scouting_team = event.get('scouts', '')\n",
        "  if scouting_team:\n",
        "      for scout in scouting_team:\n",
        "          print(f\"Name: {scout.name}\")\n",
        "          print(f\"Location: {scout.location}\")\n",
        "          print(f\"Description: {scout.description}\")\n",
        "          print(\"-\" * 50)"
      ],
      "metadata": {
        "colab": {
          "base_uri": "https://localhost:8080/"
        },
        "id": "is6DbuBg_rmd",
        "outputId": "744e2e6d-b26e-40f6-8217-dc6380623082"
      },
      "execution_count": 15,
      "outputs": [
        {
          "output_type": "stream",
          "name": "stdout",
          "text": [
            "Name: Carlos Martinez\n",
            "Location: Spanish League\n",
            "Description: Carlos is a seasoned scout with over 15 years of experience in the Spanish League. He has a keen eye for young defensive talent and has been instrumental in discovering several top-tier defenders who have made their mark in European football. His focus is on technical skills and tactical awareness, ensuring that the players he recommends can adapt to the fast-paced nature of the Premier League.\n",
            "--------------------------------------------------\n",
            "Name: Emily Thompson\n",
            "Location: English League\n",
            "Description: Emily is a former professional footballer turned scout, specializing in the English League. With a background in sports science, she combines her analytical skills with her on-field experience to identify young defenders who possess both physical prowess and mental resilience. Her expertise lies in evaluating players' potential to handle the pressures of top-flight football.\n",
            "--------------------------------------------------\n",
            "Name: Jean-Luc Dupont\n",
            "Location: French League\n",
            "Description: Jean-Luc has been scouting in the French League for over a decade, with a particular focus on youth academies. He is known for his ability to spot raw talent and nurture it into professional excellence. His experience in the French football system allows him to identify defenders who are not only strong in one-on-one situations but also excel in team dynamics and communication.\n",
            "--------------------------------------------------\n"
          ]
        }
      ]
    },
    {
      "cell_type": "code",
      "source": [
        "human_feedbak=input(\"Please provide a feedback on the results\")\n",
        "graph.update_state(thread, {\"human_feedback\": human_feedbak}, as_node=\"get_human_feedback\")"
      ],
      "metadata": {
        "colab": {
          "base_uri": "https://localhost:8080/"
        },
        "id": "U0ETYnHRUttZ",
        "outputId": "bcdea010-6658-4364-e5d6-2236a604fc63"
      },
      "execution_count": 16,
      "outputs": [
        {
          "name": "stdout",
          "output_type": "stream",
          "text": [
            "Please provide a feedback on the results\n"
          ]
        },
        {
          "output_type": "execute_result",
          "data": {
            "text/plain": [
              "{'configurable': {'thread_id': '44',\n",
              "  'checkpoint_ns': '',\n",
              "  'checkpoint_id': '1efdd98f-a6a7-6655-8002-16f9e3ea1ca7'}}"
            ]
          },
          "metadata": {},
          "execution_count": 16
        }
      ]
    },
    {
      "cell_type": "code",
      "source": [
        "for event in graph.stream(None, thread, stream_mode=\"values\"):\n",
        "    # Review\n",
        "    scouting_team = event.get('scouts', '')\n",
        "    if scouting_team:\n",
        "        for scout in scouting_team:\n",
        "            print(f\"Name: {scout.name}\")\n",
        "            print(f\"Location: {scout.location}\")\n",
        "            print(f\"Description: {scout.description}\")\n",
        "            print(\"-\" * 50)"
      ],
      "metadata": {
        "colab": {
          "base_uri": "https://localhost:8080/"
        },
        "id": "6cYNykUGXFQ9",
        "outputId": "e5e8e255-b109-4271-b360-26eed42a62c3"
      },
      "execution_count": 17,
      "outputs": [
        {
          "output_type": "stream",
          "name": "stdout",
          "text": [
            "Name: Carlos Martinez\n",
            "Location: Spanish League\n",
            "Description: Carlos is a seasoned scout with over 15 years of experience in the Spanish League. He has a keen eye for young defensive talent and has been instrumental in discovering several top-tier defenders who have made their mark in European football. His focus is on technical skills and tactical awareness, ensuring that the players he recommends can adapt to the fast-paced nature of the Premier League.\n",
            "--------------------------------------------------\n",
            "Name: Emily Thompson\n",
            "Location: English League\n",
            "Description: Emily is a former professional footballer turned scout, specializing in the English League. With a background in sports science, she combines her analytical skills with her on-field experience to identify young defenders who possess both physical prowess and mental resilience. Her expertise lies in evaluating players' potential to handle the pressures of top-flight football.\n",
            "--------------------------------------------------\n",
            "Name: Jean-Luc Dupont\n",
            "Location: French League\n",
            "Description: Jean-Luc has been scouting in the French League for over a decade, with a particular focus on youth academies. He is known for his ability to spot raw talent and nurture it into professional excellence. His experience in the French football system allows him to identify defenders who are not only strong in one-on-one situations but also excel in team dynamics and communication.\n",
            "--------------------------------------------------\n"
          ]
        }
      ]
    },
    {
      "cell_type": "markdown",
      "source": [
        "\n",
        "> We can see that the agent updated the scouts using the feedback\n",
        "\n"
      ],
      "metadata": {
        "id": "Ik1JKen1e4Oj"
      }
    },
    {
      "cell_type": "code",
      "source": [
        "# Final review for our team\n",
        "scouting_team"
      ],
      "metadata": {
        "colab": {
          "base_uri": "https://localhost:8080/"
        },
        "id": "ZNpjWsG8egED",
        "outputId": "6851da7b-bcb3-4940-958f-3897e6fe6fdc"
      },
      "execution_count": 19,
      "outputs": [
        {
          "output_type": "execute_result",
          "data": {
            "text/plain": [
              "[FootBallScout(name='Carlos Martinez', location='Spanish League', description='Carlos is a seasoned scout with over 15 years of experience in the Spanish League. He has a keen eye for young defensive talent and has been instrumental in discovering several top-tier defenders who have made their mark in European football. His focus is on technical skills and tactical awareness, ensuring that the players he recommends can adapt to the fast-paced nature of the Premier League.'),\n",
              " FootBallScout(name='Emily Thompson', location='English League', description=\"Emily is a former professional footballer turned scout, specializing in the English League. With a background in sports science, she combines her analytical skills with her on-field experience to identify young defenders who possess both physical prowess and mental resilience. Her expertise lies in evaluating players' potential to handle the pressures of top-flight football.\"),\n",
              " FootBallScout(name='Jean-Luc Dupont', location='French League', description='Jean-Luc has been scouting in the French League for over a decade, with a particular focus on youth academies. He is known for his ability to spot raw talent and nurture it into professional excellence. His experience in the French football system allows him to identify defenders who are not only strong in one-on-one situations but also excel in team dynamics and communication.')]"
            ]
          },
          "metadata": {},
          "execution_count": 19
        }
      ]
    },
    {
      "cell_type": "markdown",
      "source": [
        "## **2. Implement the Football Expert Analysis Workflow**  \n",
        "\n",
        "The expert analysis workflow consists of the following steps:  \n",
        "- **Search the Web**: Gather accurate web pages related to the scouting topic.  \n",
        "- **Extract Player Information**: Identify top players and their respective teams from the web pages.  \n",
        "- **Fetch Player Stats**: Retrieve detailed player statistics using a football API.  \n",
        "- **Analyze and Report**: Analyze the statistics and generate an insightful report.  \n",
        "\n"
      ],
      "metadata": {
        "id": "fuRo30mqfa4q"
      }
    },
    {
      "cell_type": "code",
      "source": [
        "# Web search tool\n",
        "from langchain_community.tools.tavily_search import TavilySearchResults\n",
        "tavily_search = TavilySearchResults(\n",
        "    max_results=10,\n",
        "    search_depth=\"advanced\",\n",
        "    include_answer=True,\n",
        "    include_raw_content=True,\n",
        "    include_images=False,\n",
        "    )"
      ],
      "metadata": {
        "id": "plc2X3jSSbtF"
      },
      "execution_count": 34,
      "outputs": []
    },
    {
      "cell_type": "code",
      "source": [
        "import operator\n",
        "from typing import  Annotated,Tuple\n",
        "from langgraph.graph import MessagesState\n",
        "import pandas as pd\n",
        "import json\n",
        "\n",
        "\n",
        "class Player(BaseModel):\n",
        "  name:str=Field(description=\"Name of the player\")\n",
        "  team:str=Field(description=\"Team of the player\")\n",
        "\n",
        "class Players(BaseModel):\n",
        "  players: List[Player] = Field(\n",
        "      description=\"Player\",)\n",
        "\n",
        "class ReportState(MessagesState):\n",
        "  topic:str\n",
        "  scout:FootBallScout\n",
        "  db_teams:json\n",
        "  context: Annotated[list, operator.add] # Source docs\n",
        "  league:str\n",
        "  num_candidates:int\n",
        "  candidates:list[str]\n",
        "  stats: json\n",
        "  report :str # final report\n",
        "\n",
        "class SearchQuery(BaseModel):\n",
        "    search_query: str = Field(None, description=\"Search query for retrieval.\")"
      ],
      "metadata": {
        "id": "-wXlBO9vAGRB"
      },
      "execution_count": 21,
      "outputs": []
    },
    {
      "cell_type": "code",
      "source": [
        "query_instructions = \"\"\"\n",
        "You are a helphul assistant, your will be asked by a football analyst to help him generate a well-structured web search query from his topic.\n",
        "- Review his topic as well\n",
        "- You query should be precise\n",
        "- Your query should not be long 50 words max\n",
        "the topic is {topic}\n",
        "\"\"\"\n",
        "\n",
        "def search_web(state: ReportState):\n",
        "\n",
        "    \"\"\" Retrieve docs from web search \"\"\"\n",
        "    topic=state[\"topic\"]\n",
        "    scout=state[\"scout\"]\n",
        "    # Search query\n",
        "    structured_llm = llm.with_structured_output(SearchQuery)\n",
        "    search_query = structured_llm.invoke(query_instructions.format(topic=topic,persona=scout.description))\n",
        "    print(f\"-------------Search Query-----{search_query}\")\n",
        "    # Search\n",
        "    search_docs = tavily_search.invoke(search_query.search_query)\n",
        "\n",
        "     # Format\n",
        "    formatted_search_docs = \"\\n\\n---\\n\\n\".join(\n",
        "        [\n",
        "            f'<Document href=\"{doc[\"url\"]}\"/>\\n{doc[\"content\"]}\\n</Document>'\n",
        "            for doc in search_docs\n",
        "        ]\n",
        "    )\n",
        "    return {\"context\": [formatted_search_docs]}\n"
      ],
      "metadata": {
        "id": "m2GsKrrEDV8Q"
      },
      "execution_count": 22,
      "outputs": []
    },
    {
      "cell_type": "code",
      "source": [
        "get_players_instructions = \"\"\"\n",
        "You are a helpful assistant tasked with analyzing news articles about football talents. Your objective is to extract the full name of the players mentioned in the news and their current team.\n",
        "\n",
        "### Instructions:\n",
        "1. Use only the information provided in the documents. Do not include any additional or inferred details.\n",
        "2. If any information (e.g., team name) is missing, leave it blank.\n",
        "3. Filter players to include only those who match the topic {topic}, ensuring their position and age align with the topic's requirements.\n",
        "4. For each player, explicitly extract:\n",
        "   - Full Name\n",
        "   - Current Team\n",
        "5. Make sure that the current team name is the official name of the team and not just an abrevation (e.g. Real Madrid and not RMA)\n",
        "6. Make sure the Team name match a team in the dataset provided below\n",
        "\n",
        "### Output Format:\n",
        "- Player(name=\"player_name\", team=\"team_name\")\n",
        "\n",
        "### Dataset:\n",
        "{db_teams}\n",
        "\"\"\"\n",
        "\n",
        "def get_players(state: ReportState):\n",
        "    \"\"\" Node to generate a question \"\"\"\n",
        "\n",
        "    context = state[\"context\"]\n",
        "    db_teams=state[\"db_teams\"]\n",
        "    system_message=get_players_instructions.format(db_teams=db_teams,topic=topic)\n",
        "    candidates = llm.with_structured_output(Players).invoke([SystemMessage(content=system_message)]+[HumanMessage(content=f\"the news you should use: {context}\")])\n",
        "    return {\"candidates\": [candidates]}"
      ],
      "metadata": {
        "id": "Nd0QBUUZSZq-"
      },
      "execution_count": 32,
      "outputs": []
    },
    {
      "cell_type": "markdown",
      "source": [
        "### Football Stats Section  \n",
        "\n",
        "To retrieve football data, follow these steps:  \n",
        "\n",
        "1. **Set Up API_FOOTBALL**  \n",
        "   - Obtain an API key for **API_FOOTBALL**.  \n",
        "   - Use the script provided [here](https://github.com/yassine-bouabda/football-stats-fetcher) to integrate it into your workflow.  \n",
        "\n",
        "2. **Alternative Option**  \n",
        "   - If you prefer not to use an API, you can use the dummy function provided below for demonstration purposes.  \n"
      ],
      "metadata": {
        "id": "BKNGGSP-2LCu"
      }
    },
    {
      "cell_type": "code",
      "source": [
        "import pandas as pd\n",
        "from players_data import get_player_data  # get the helper from the github repo above"
      ],
      "metadata": {
        "id": "qnTQF2rdaAlO"
      },
      "execution_count": 24,
      "outputs": []
    },
    {
      "cell_type": "code",
      "source": [
        "import random\n",
        "def dummy_get_player_data(name, team):\n",
        "    \"\"\"Generates a dummy dataframe with player stats using an agent\"\"\"\n",
        "    age=random.randint(18,30)\n",
        "    position=random.choice([\"Defender\"])\n",
        "    note=random.randint(1,10)\n",
        "    goals=random.randint(0,30)\n",
        "    assists=random.randint(0,30)\n",
        "    clean_sheets=random.randint(0,10)\n",
        "    minutes_played=random.randint(0,3000)\n",
        "    result=pd.DataFrame({\"name\":[name],\"team\":team,\"age\":[age],\"position\":[position],\n",
        "                         \"note\":[note],\"goals\":[goals],\"assists\":[assists],\"clean_sheets\":[clean_sheets],\"minutes_played\":[minutes_played]})\n",
        "    return result"
      ],
      "metadata": {
        "id": "4R9pIOWHa5P-"
      },
      "execution_count": 25,
      "outputs": []
    },
    {
      "cell_type": "code",
      "source": [
        "def stats_queries(state: ReportState):\n",
        "  \"\"\"Genrate simple queries to get players stats \"\"\"\n",
        "\n",
        "  candidates = state[\"candidates\"][0].players\n",
        "  all_stats=[]\n",
        "  for candidate in candidates:\n",
        "    name,team = candidate.name,candidate.team\n",
        "    if not name and not team:\n",
        "      continue\n",
        "    print(f\"--------Searching for {name}----------- \")\n",
        "    stats=get_player_data(name,team)\n",
        "    all_stats.append(stats)\n",
        "  all_stats_df=pd.concat(all_stats)\n",
        "  all_stats=all_stats_df.to_json(orient=\"records\")\n",
        "  return {\"stats\": [all_stats]}"
      ],
      "metadata": {
        "id": "w5MOu77GYiZ1"
      },
      "execution_count": 33,
      "outputs": []
    },
    {
      "cell_type": "code",
      "source": [
        "\n",
        "# Expert analyst node\n",
        "expert_instructions = \"\"\"\n",
        "You are an expert football analyst tasked with assisting a scout in generating a report on football talents. You will receive a JSON file containing seasonal statistics for a group of players.\n",
        "\n",
        "Your responsibilities:\n",
        "1. Review the information in the JSON\n",
        "2. Use only the data available in the JSON for your analysis\n",
        "3. Compare the players' statistics.\n",
        "4. Select the top {num_candidates} players based on their stats.\n",
        "5. Filter players to include only those who match the topic {topic}, ensuring their position and age align with the topic's requirements.\n",
        "6. Generate a concise summary (maximum 200 words).\n",
        "7. For each selected player:\n",
        "   - Provide a brief recap highlighting their key strengths and performance.\n",
        "   - Present their statistics in a structured table format.\n",
        "8. DO NOT add player if he wasn't in the JSON\n",
        "Structure your output in Markdown as follows:\n",
        "- Title (`# Header`)\n",
        "- Summary (`## Header`)\n",
        "- Player Details (one section for each player, including a recap and data in table format):\n",
        "  ```markdown\n",
        "  ## Player 1\n",
        "  ### Recap\n",
        "  A short description summarizing the player's performance, strengths, and notable contributions.\n",
        "\n",
        "  ### Player Data\n",
        "  | Name              | Age | Team              | Goals | Assists | Clean Sheets | Minutes Played | Rating |\n",
        "  |:------------------|:---:|:------------------|:-----:|:-------:|:------------:|:---------------:|:------:|\n",
        "  | Player Name Here  |  XX | Team Name Here    |   XX  |    XX   |      XX      |       XX        |    XX   |\n",
        "\n",
        "\"\"\"\n",
        "\n",
        "def expert_reviewer(state: ReportState):\n",
        "    stats=state[\"stats\"]\n",
        "    topic=state[\"topic\"]\n",
        "    num_candidates=state[\"num_candidates\"]\n",
        "    num_candidates=state[\"num_candidates\"]\n",
        "    \"\"\" Reveiw and summarize the talents documents \"\"\"\n",
        "    report=llm.invoke([SystemMessage(content=expert_instructions.format(num_candidates=num_candidates,topic=topic))]+[HumanMessage(content=f\"Use this JSON data for your analysis {stats}\")])\n",
        "    print(report)\n",
        "    return {\"report\": [report]}\n"
      ],
      "metadata": {
        "id": "KU3tnxhViS2t"
      },
      "execution_count": 28,
      "outputs": []
    },
    {
      "cell_type": "code",
      "source": [
        "\n",
        "# Add nodes and edges\n",
        "interview_builder = StateGraph(ReportState)\n",
        "interview_builder.add_node(\"search_web\", search_web)\n",
        "interview_builder.add_node(\"get_players\", get_players)\n",
        "interview_builder.add_node(\"stats_queries\", stats_queries)\n",
        "interview_builder.add_node(\"expert_reviewer\", expert_reviewer)\n",
        "\n",
        "# Flow\n",
        "interview_builder.add_edge(START, \"search_web\")\n",
        "interview_builder.add_edge(\"search_web\", \"get_players\")\n",
        "interview_builder.add_edge(\"get_players\", \"stats_queries\")\n",
        "interview_builder.add_edge(\"stats_queries\", \"expert_reviewer\")\n",
        "interview_builder.add_edge(\"expert_reviewer\", END)\n",
        "\n",
        "\n",
        "# Interview\n",
        "memory = MemorySaver()\n",
        "scouting_graph = interview_builder.compile(checkpointer=memory).with_config(run_name=\"Football Scouting\")\n",
        "\n",
        "# View\n",
        "display(Image(scouting_graph.get_graph().draw_mermaid_png()))"
      ],
      "metadata": {
        "colab": {
          "base_uri": "https://localhost:8080/",
          "height": 603
        },
        "id": "b0URJ85Dek4r",
        "outputId": "b71ad1b8-2055-4e9d-ec39-76e2531f24cf"
      },
      "execution_count": 29,
      "outputs": [
        {
          "output_type": "stream",
          "name": "stderr",
          "text": [
            "/usr/local/lib/python3.11/dist-packages/pydantic/_internal/_generate_schema.py:502: UserWarning: <module 'json' from '/usr/lib/python3.11/json/__init__.py'> is not a Python type (it may be an instance of an object), Pydantic will allow any object with no validation since we cannot even enforce that the input is an instance of the given type. To get rid of this error wrap the type with `pydantic.SkipValidation`.\n",
            "  warn(\n"
          ]
        },
        {
          "output_type": "display_data",
          "data": {
            "image/png": "[encoded data removed]",
            "text/plain": [
              "<IPython.core.display.Image object>"
            ]
          },
          "metadata": {}
        }
      ]
    },
    {
      "cell_type": "code",
      "source": [
        "from IPython.display import Markdown\n",
        "teams_df=pd.read_csv(\"all_teams.csv\")\n",
        "scout=scouting_team[0] # lets pick up the first scout as our virtuel scout\n",
        "messages = [HumanMessage(f\"Hello I am {scout.description} and I am looking for {topic}?\")]\n",
        "thread = {\"configurable\": {\"thread_id\": \"999\"}}\n",
        "db_teams=teams_df[[\"Team\"]].to_json(orient=\"records\")\n",
        "num_candidates=3\n",
        "result = scouting_graph.invoke({\"scout\": scout, \"messages\": messages,\"db_teams\":db_teams,\"num_candidates\":num_candidates,\"topic\":topic}, thread)\n"
      ],
      "metadata": {
        "colab": {
          "base_uri": "https://localhost:8080/"
        },
        "id": "HjeFzIsaywc2",
        "outputId": "2c4bea53-e5af-4c42-c407-25a4c06701d3"
      },
      "execution_count": 30,
      "outputs": [
        {
          "output_type": "stream",
          "name": "stdout",
          "text": [
            "-------------Search Query-----search_query='\"Best young defenders Premier League 2024 season\"'\n",
            "['<Document href=\"https://www.footballtransfers.com/us/transfer-news/uk-premier-league/2024/09/ea-sports-fc-fifa-25-top-young-defenders-us\"/>\\nSep 26, 2024 · Lucas Beraldo (PSG), Luka Vuskovic (Westerlo), Ousmane Diomande (Sporting), Leny Yoro (Man Utd), Cristhian Mosquera (Valencia), Castello Lukeba\\n</Document>\\n\\n---\\n\\n<Document href=\"https://sports.yahoo.com/premier-league-defenders-2024-25-210000365.html\"/>\\nAug 23, 2024 · Premier League defenders - 2024/25 power rankings · 10. Noussair Mazraoui · 9. Ben White · 8. Rico Lewis · 7. Gabriel · 6. Cristian Romero · 5. Ruben\\xa0...Missing:  young | Show results with:young\\n</Document>\\n\\n---\\n\\n<Document href=\"https://www.nytimes.com/athletic/5668414/2024/08/14/premier-league-young-player-to-watch/\"/>\\nAug 13, 2024 · Precocious midfielder Adam Wharton and defender Chadi Riad, who impressed on loan at Real Betis in La Liga last season, are more known\\n</Document>\\n\\n---\\n\\n<Document href=\"https://www.givemesport.com/best-young-players-in-the-premier-league/\"/>\\n![Image 86: Alejandro Garnacho gives Everton wondergoal boots to delighted young Man United fan](https://static0.givemesportimages.com/wordpress/wp-content/uploads/2023/11/mixcollage-28-nov-2023-07-55-am-16.jpg) ![Image 87: rico-lewis-manchester-city](https://static0.givemesportimages.com/wordpress/wp-content/uploads/2023/12/mixcollage-13-dec-2023-11-06-am-6682.jpg) A Manchester City summer signing in 2024, Savinho comes to the Premier League with a high ceiling, having scored nine goals and provided 10 assists on loan at Girona last season to help them qualify for the Champions League for the first time in the club\\'s 96-year history, finishing behind only Barcelona and Real Madrid in La Liga. ![Image 105: Newcastle United left-back Lewis Hall celebrating](https://static0.givemesportimages.com/wordpress/wp-content/uploads/2024/05/mixcollage-07-may-2024-02-40-pm-7296.jpg) [![Image 107: EPL_Better Players Than Him](https://static0.givemesportimages.com/wordpress/wp-content/uploads/2024/09/epl_better-players-than-him.jpg)](https://www.givemesport.com/cristiano-ronaldo-jose-mourinho-three-best-players-football-history/) [![Image 108: Gary Neville as a pundit for Sky Sports](https://static0.givemesportimages.com/wordpress/wp-content/uploads/2024/03/mixcollage-16-mar-2024-11-24-am-5696.jpg)](https://www.givemesport.com/des-lynam-backs-next-manchester-united-manager-gary-neville/) [![Image 109: Diogo Jota in action for Liverpool](https://static0.givemesportimages.com/wordpress/wp-content/uploads/2024/04/mixcollage-23-apr-2024-01-43-pm-2870.jpg)](https://www.givemesport.com/diogo-jota-names-toughest-opponents-football-career/) [![Image 115: Ryan Giggs (Manchester United) , James Milner (Liverpool), Ashley Cole (Chelsea) with Premier League theme](https://static0.givemesportimages.com/wordpress/wp-content/uploads/2025/01/epl_most-consistent-players.jpg)](https://www.givemesport.com/most-consistent-players-in-premier-league-history-ranked/) [![Image 118: Rangers manager Philippe Clement](https://static0.givemesportimages.com/wordpress/wp-content/uploads/2024/01/rangers-manager-philippe-clement.jpg)](https://www.givemesport.com/new-club-enter-race-to-sign-exceptional-rangers-star-talks-held/) [![Image 120: ruben amorim-1](https://static0.givemesportimages.com/wordpress/wp-content/uploads/2025/01/ruben-amorim-1.jpg)](https://www.givemesport.com/mark-goldbridge-wants-manchester-united-to-re-sign-42m-monster/) [![Image 122: Ruben Amorim after Man Utd lost 2-0 to Wolves](https://static0.givemesportimages.com/wordpress/wp-content/uploads/2024/12/mixcollage-27-dec-2024-09-12-am-7542.jpg)](https://www.givemesport.com/manchester-united-ready-significant-offer-to-sign-incredible-real-madrid-star/)\\n</Document>\\n\\n---\\n\\n<Document href=\"https://www.espn.com/soccer/story/_/id/40179267/fc-100-virgil-van-dijk-best-defenders-men-soccer\"/>\\nStat to know: Had three game-winning goals in the Premier League this season, the most by any defender and tied for the second most by any defender over the past two seasons despite playing 30+ fewer games in that span. Injuries during the season have seen White step into midfield and play the \"inverted full-back role\" that is key to the way Mikel Arteta likes Arsenal to play, but he is equally effective as a more orthodox right-sided player who can defend aggressively and move the ball forward as needed. Projection for next season: Dimarco has three years to run on his deal and, rightly or wrongly, most see him purely as a wing-back -- though he has played left-back in a four for Italy and even left-sided central defender in a three.\\n</Document>\\n\\n---\\n\\n<Document href=\"https://www.theguardian.com/football/ng-interactive/2024/oct/14/next-generation-2024-20-of-the-best-talents-at-premier-league-clubs\"/>\\nOct 14, 2024 · Jack Porter. Arsenal ; Max Jenner. Aston Villa ; Jonny Day. Bournemouth ; Domeiro Bobb-Semple. Brentford ; Darius Lane. Brighton.\\n</Document>\\n\\n---\\n\\n<Document href=\"https://www.youtube.com/watch?v=307PrzS24zA\"/>\\nJul 13, 2024 · Here we have top 10 best young football defenders during 2023/24, They have all the quality to be best in the world. Next season will be\\xa0...Missing:  Premier | Show results with:Premier\\n</Document>\\n\\n---\\n\\n<Document href=\"https://www.premierleague.com/news/4073922\"/>\\nWhy Minteh\\'s wing wizardry will be deadly against tiring defencesEight Premier League stars who shone at PL2 and U18PL levelPremier League clubs\\' summer 2024 pre-season matches In Spurs’ academy since the Under-9s, Moore has already progressed rapidly through their ranks to become their youngest ever Premier League player when he made his first-team debut against Man City in May aged 16 years and 277 days. Spurs’ summer matches have seen more standout moments which underline why Moore is rated as a player who could go onto big things if all goes to plan with the 16-year-old, who has produced goals and assists in pre-season.\\n</Document>\\n\\n---\\n\\n<Document href=\"https://www.goal.com/en-us/lists/nxgn-teenage-wonderkids-premier-league-by-storm-2024-25/blt0da599fdf36eb325\"/>\\nAug 15, 2024 · Archie Gray, Ethan Nwaneri and 26 NXGN wonderkids set to take the Premier League by storm in 2024-25 · Josh Acheampong (Chelsea) · Most Read.\\n</Document>\\n\\n---\\n\\n<Document href=\"https://www.squawka.com/en/features/best-premier-league-centre-backs-ranked/\"/>\\nDec 26, 2024 · The best Premier League centre-backs of 2024-25 ranked · 5. Cristian Romero · 4. Ibrahima Konate · 3. Gabriel · 2. Virgil van Dijk · 1. Nikola\\n</Document>']\n",
            "Name Leny Yoro\n",
            "Team Manchester United\n",
            "--------Searching for Leny Yoro----------- \n",
            "Found player: L. Yoro (ID: 342970)\n",
            "Name Rico Lewis\n",
            "Team Manchester City\n",
            "--------Searching for Rico Lewis----------- \n",
            "Found player: R. Lewis (ID: 284230)\n",
            "Name Lewis Hall\n",
            "Team Newcastle\n",
            "--------Searching for Lewis Hall----------- \n",
            "Found player: L. Hall (ID: 284492)\n",
            "content=\"# Best Young Defenders in the Premier League for the 2024 Season\\n\\n## Summary\\nIn the 2024 Premier League season, three young defenders have stood out: L. Yoro, R. Lewis, and L. Hall. These players, aged 20 and 21, have demonstrated significant potential and skill in their respective teams. L. Yoro, playing for Manchester United, has shown promise with his defensive capabilities despite limited appearances. R. Lewis of Manchester City has been a consistent performer, contributing both defensively and offensively. L. Hall from Newcastle has been a key player, showcasing his ability to maintain possession and contribute to the team's defensive solidity. These players have been selected based on their appearances, minutes played, and overall ratings, highlighting their importance to their teams and potential for future growth.\\n\\n## Player 1: L. Yoro\\n### Recap\\nL. Yoro, at just 20 years old, has shown potential in his limited appearances for Manchester United. His defensive skills are evident through his tackling and dueling statistics, and he has maintained a solid presence on the field.\\n\\n### Player Data\\n| Name    | Age | Team              | Goals | Assists | Clean Sheets | Minutes Played | Rating |\\n|:--------|:---:|:------------------|:-----:|:-------:|:------------:|:---------------:|:------:|\\n| L. Yoro |  20 | Manchester United |   0   |    0    |      -       |       419       | 6.52   |\\n\\n## Player 2: R. Lewis\\n### Recap\\nR. Lewis has been a standout performer for Manchester City, contributing both defensively and offensively. His ability to assist and maintain a high pass completion rate makes him a valuable asset to his team.\\n\\n### Player Data\\n| Name    | Age | Team              | Goals | Assists | Clean Sheets | Minutes Played | Rating |\\n|:--------|:---:|:------------------|:-----:|:-------:|:------------:|:---------------:|:------:|\\n| R. Lewis|  21 | Manchester City   |   1   |    2    |      -       |      1404       | 6.94   |\\n\\n## Player 3: L. Hall\\n### Recap\\nL. Hall has been a key player for Newcastle, known for his defensive prowess and ability to maintain possession. His high number of duels and tackles highlights his defensive contributions.\\n\\n### Player Data\\n| Name    | Age | Team     | Goals | Assists | Clean Sheets | Minutes Played | Rating |\\n|:--------|:---:|:---------|:-----:|:-------:|:------------:|:---------------:|:------:|\\n| L. Hall |  21 | Newcastle|   0   |    3    |      -       |      1745       | 7.31   |\" additional_kwargs={'refusal': None} response_metadata={'token_usage': {'completion_tokens': 615, 'prompt_tokens': 1576, 'total_tokens': 2191, 'completion_tokens_details': {'accepted_prediction_tokens': 0, 'audio_tokens': 0, 'reasoning_tokens': 0, 'rejected_prediction_tokens': 0}, 'prompt_tokens_details': {'audio_tokens': 0, 'cached_tokens': 0}}, 'model_name': 'gpt-4o-2024-08-06', 'system_fingerprint': 'fp_50cad350e4', 'finish_reason': 'stop', 'logprobs': None} id='run-2ce42da3-d097-49a8-b9da-2219f155abf4-0' usage_metadata={'input_tokens': 1576, 'output_tokens': 615, 'total_tokens': 2191, 'input_token_details': {'audio': 0, 'cache_read': 0}, 'output_token_details': {'audio': 0, 'reasoning': 0}}\n"
          ]
        }
      ]
    },
    {
      "cell_type": "code",
      "source": [
        "Markdown(result[\"report\"][0].content)"
      ],
      "metadata": {
        "colab": {
          "base_uri": "https://localhost:8080/",
          "height": 882
        },
        "id": "4Q1ETyKVj6J_",
        "outputId": "30c6f0d5-9e7a-468e-c265-8e320ceda540"
      },
      "execution_count": 31,
      "outputs": [
        {
          "output_type": "execute_result",
          "data": {
            "text/plain": [
              "<IPython.core.display.Markdown object>"
            ],
            "text/markdown": "# Best Young Defenders in the Premier League for the 2024 Season\n\n## Summary\nIn the 2024 Premier League season, three young defenders have stood out: L. Yoro, R. Lewis, and L. Hall. These players, aged 20 and 21, have demonstrated significant potential and skill in their respective teams. L. Yoro, playing for Manchester United, has shown promise with his defensive capabilities despite limited appearances. R. Lewis of Manchester City has been a consistent performer, contributing both defensively and offensively. L. Hall from Newcastle has been a key player, showcasing his ability to maintain possession and contribute to the team's defensive solidity. These players have been selected based on their appearances, minutes played, and overall ratings, highlighting their importance to their teams and potential for future growth.\n\n## Player 1: L. Yoro\n### Recap\nL. Yoro, at just 20 years old, has shown potential in his limited appearances for Manchester United. His defensive skills are evident through his tackling and dueling statistics, and he has maintained a solid presence on the field.\n\n### Player Data\n| Name    | Age | Team              | Goals | Assists | Clean Sheets | Minutes Played | Rating |\n|:--------|:---:|:------------------|:-----:|:-------:|:------------:|:---------------:|:------:|\n| L. Yoro |  20 | Manchester United |   0   |    0    |      -       |       419       | 6.52   |\n\n## Player 2: R. Lewis\n### Recap\nR. Lewis has been a standout performer for Manchester City, contributing both defensively and offensively. His ability to assist and maintain a high pass completion rate makes him a valuable asset to his team.\n\n### Player Data\n| Name    | Age | Team              | Goals | Assists | Clean Sheets | Minutes Played | Rating |\n|:--------|:---:|:------------------|:-----:|:-------:|:------------:|:---------------:|:------:|\n| R. Lewis|  21 | Manchester City   |   1   |    2    |      -       |      1404       | 6.94   |\n\n## Player 3: L. Hall\n### Recap\nL. Hall has been a key player for Newcastle, known for his defensive prowess and ability to maintain possession. His high number of duels and tackles highlights his defensive contributions.\n\n### Player Data\n| Name    | Age | Team     | Goals | Assists | Clean Sheets | Minutes Played | Rating |\n|:--------|:---:|:---------|:-----:|:-------:|:------------:|:---------------:|:------:|\n| L. Hall |  21 | Newcastle|   0   |    3    |      -       |      1745       | 7.31   |"
          },
          "metadata": {},
          "execution_count": 31
        }
      ]
    }
  ]
}