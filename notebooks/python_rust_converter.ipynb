{
 "cells": [
  {
   "cell_type": "markdown",
   "id": "98bfa950-f1b0-4055-ac3f-5d098d30a660",
   "metadata": {},
   "source": [
    "### Convert Python to Rust Using LLMs\n",
    "\n",
    "In this blog post, we will walk through how to use Large Language Models (LLMs) to translate Python code into Rust code.\n",
    "\n",
    "**Prerequisites**\n",
    "\n",
    "1. Install langchain and gradio requirements:\n",
    "\n",
    "   ````!pip install langchain-openai langchain gradio````\n",
    "   \n",
    "2. **Make sure Rust is installed:**\n",
    "\n",
    "   You can install Rust from the [official website](https://www.rust-lang.org/), or alternatively, you can use a Rust REPL (though this is not optimal). You can use a REPL for Rust but it is not optimal [check this reddit](https://www.reddit.com/r/rust/comments/17lo0gg/evcxr_rust_repl_is_an_incredible_tool/).\n"
   ]
  },
  {
   "cell_type": "code",
   "execution_count": 133,
   "id": "0326cb2f-e99a-4c3d-97be-d65dde1e0abd",
   "metadata": {},
   "outputs": [],
   "source": [
    "import subprocess\n",
    "from dotenv import load_dotenv\n",
    "from langchain_openai import ChatOpenAI\n",
    "from langchain_core.messages import HumanMessage,AIMessage,SystemMessage\n",
    "import gradio as gr \n",
    "import time\n",
    "import os\n",
    "import sys\n",
    "import io"
   ]
  },
  {
   "cell_type": "code",
   "execution_count": 27,
   "id": "f1379806-de03-4b4e-b56a-7a04d0bad22d",
   "metadata": {},
   "outputs": [],
   "source": [
    "load_dotenv()\n",
    "os.environ[\"OPENAI_API_KEY\"]=os.getenv(\"OPENAI_API_KEY\")"
   ]
  },
  {
   "cell_type": "code",
   "execution_count": 41,
   "id": "91078f2e-487e-4935-9496-692a731ccb97",
   "metadata": {},
   "outputs": [],
   "source": [
    "llm=ChatOpenAI(temperature=0,streaming=True)"
   ]
  },
  {
   "cell_type": "code",
   "execution_count": 128,
   "id": "bec0756e-01c7-4706-abf7-fcfd1aa6726b",
   "metadata": {},
   "outputs": [],
   "source": [
    "SYSTEM_PROMPT=\"\"\"You are a helpful assistant. Your task is to convert Python code into equivalent Rust code. \n",
    "The code you generate should produce the same output as the given Python code. \n",
    "Respond only with Rust code; do not explain your work other than a few comments.\"\"\"\n",
    "    "
   ]
  },
  {
   "cell_type": "code",
   "execution_count": 129,
   "id": "7c81b4c0-dfa1-43e6-84ea-dd7acfcbdb8c",
   "metadata": {},
   "outputs": [],
   "source": [
    "USER_PROMPT=\"\"\"Convert the following code to equivalent Rust: {py_code}\"\"\""
   ]
  },
  {
   "cell_type": "markdown",
   "id": "1eaceae8-23ea-4ded-b940-376de6e695de",
   "metadata": {},
   "source": [
    "### Define functions"
   ]
  },
  {
   "cell_type": "code",
   "execution_count": 58,
   "id": "968e5916-0808-4b19-9b0a-42a4e489a325",
   "metadata": {},
   "outputs": [],
   "source": [
    "py_code=\"\"\"\n",
    "import time\n",
    "def alternating_harmonic_sum(n):\n",
    "    \"Compute the sum of the alternating harmonic series up to n (inefficient for large n).\"\n",
    "    total = 0\n",
    "    for i in range(1, n + 1):\n",
    "        total += (-1) ** (i + 1) / i\n",
    "    return total\n",
    "\n",
    "# Parametres\n",
    "n = 10_000_000  # \n",
    "start = time.time()\n",
    "result = slow_alternating_harmonic_sum(n)\n",
    "end = time.time()\n",
    "\n",
    "print(f\"Alternating harmonic sum up to {n}: {result}\")\n",
    "print(f\"Time taken: {end - start:.2f} seconds\")\n",
    "\"\"\""
   ]
  },
  {
   "cell_type": "code",
   "execution_count": 94,
   "id": "253853d0-6df6-4d27-b519-f5f30d32cf86",
   "metadata": {},
   "outputs": [],
   "source": [
    "def call_llm(py_code: str)->None:\n",
    "    messages=[SystemMessage(content=system_prompt)]+[HumanMessage(content=user_prompt.format(py_code=py_code))]\n",
    "    output=\"\"\n",
    "    for chunk in llm.stream(messages):\n",
    "        output+=chunk.content\n",
    "        yield output"
   ]
  },
  {
   "cell_type": "code",
   "execution_count": 97,
   "id": "b6a16ed0-cb79-4e03-9d1d-1e66d30d2e86",
   "metadata": {},
   "outputs": [],
   "source": [
    "def write_file(code:str)->None:\n",
    "    code=code.replace(\"```rust\",\"\").replace(\"```\",\"\")\n",
    "    with open(\"rust.rs\",\"w\") as f:\n",
    "        f.write(code)"
   ]
  },
  {
   "cell_type": "code",
   "execution_count": 132,
   "id": "100fc9b7-957f-4b7e-a622-bea0c9e126f3",
   "metadata": {},
   "outputs": [],
   "source": [
    "def run_rust(rust_code:str)->str:\n",
    "    rust_file_path=\"rust.rs\"\n",
    "    write_file(rust_code)\n",
    "    \n",
    "    compile_process = subprocess.run([\"rustc\", rust_file_path], capture_output=True, text=True)\n",
    "    \n",
    "    # Check for compilation errors\n",
    "    if compile_process.returncode != 0:\n",
    "        print(\"Compilation failed:\")\n",
    "        return(compile_process.stderr)\n",
    "    else:\n",
    "        #  Run the compiled binary\n",
    "        compiled=\"./\"+rust_file_path.split(\".\")[0]+\".exe\"\n",
    "        output = subprocess.run([compiled], capture_output=True, text=True)\n",
    "        \n",
    "        os.remove(compiled)\n",
    "        os.remove(rust_file_path)\n",
    "        return(output.stdout)"
   ]
  },
  {
   "cell_type": "code",
   "execution_count": 134,
   "id": "9ad8c396-d1c9-4d2a-806c-119fb70da10b",
   "metadata": {},
   "outputs": [],
   "source": [
    "def run_python(code:str)->None:\n",
    "    try:\n",
    "        output = io.StringIO()\n",
    "        sys.stdout = output\n",
    "        exec(code)\n",
    "    finally:\n",
    "        sys.stdout = sys.__stdout__\n",
    "    return output.getvalue()"
   ]
  },
  {
   "cell_type": "markdown",
   "id": "2b7c80eb-49ed-48de-ae3c-096be7955b61",
   "metadata": {},
   "source": [
    "### Define a simple UI with Gradio"
   ]
  },
  {
   "cell_type": "code",
   "execution_count": 126,
   "id": "7eb4df12-8265-48b1-945b-8dce08abb042",
   "metadata": {},
   "outputs": [],
   "source": [
    "with gr.Blocks() as ui:\n",
    "    with gr.Row():\n",
    "        title = gr.HTML(\"<h1 style='text-align: center;'>Python to Rust</h1>\")\n",
    "    with gr.Row():\n",
    "        python_code=gr.Textbox(label=\"Python code\",lines=8)\n",
    "        rust_code=gr.Textbox(label=\"Rust code\",lines=8)\n",
    "    with gr.Row():\n",
    "        submit=gr.Button(\"Convert code\")\n",
    "    with gr.Row():\n",
    "        python_result=gr.Textbox(label=\"Python code\",lines=4)\n",
    "        rust_result=gr.Textbox(label=\"Rust Result\",lines=4)\n",
    "    with gr.Row():\n",
    "        run_python_button=gr.Button(\"Run Python\")\n",
    "        run_rust_button=gr.Button(\"Run Rust\")\n",
    "    submit.click(call_llm,inputs=[python_code],outputs=[rust_code])\n",
    "    run_python_button.click(run_python,inputs=[python_code],outputs=[python_result])\n",
    "    run_rust_button.click(run_rust,inputs=[rust_code],outputs=[rust_result])\n"
   ]
  },
  {
   "cell_type": "code",
   "execution_count": 127,
   "id": "12ead4f4-04fc-4539-b7ee-34819e132625",
   "metadata": {},
   "outputs": [
    {
     "data": {
      "text/html": [
       "<div><iframe src=\"http://127.0.0.1:7868/\" width=\"100%\" height=\"500\" allow=\"autoplay; camera; microphone; clipboard-read; clipboard-write;\" frameborder=\"0\" allowfullscreen></iframe></div>"
      ],
      "text/plain": [
       "<IPython.core.display.HTML object>"
      ]
     },
     "metadata": {},
     "output_type": "display_data"
    },
    {
     "data": {
      "text/plain": []
     },
     "execution_count": 127,
     "metadata": {},
     "output_type": "execute_result"
    }
   ],
   "source": [
    "ui.launch(inbrowser=True)"
   ]
  },
  {
   "cell_type": "markdown",
   "id": "94bcf4c3",
   "metadata": {},
   "source": [
    "### Customization\n",
    "\n",
    "- Integrate other LLMs, both open-source or commercial, like Claude from Anthropic, for better performance or more tailored outputs.\n",
    "- Customize the interface for smoother interactions and more flexibility in design.\n",
    "- Allow for additional features like saving translations or adjusting settings to fit user preferences.\n"
   ]
  },
  {
   "cell_type": "code",
   "execution_count": null,
   "id": "0e516fca-3a8c-4d23-bba9-5c0da7fecaec",
   "metadata": {},
   "outputs": [],
   "source": []
  }
 ],
 "metadata": {
  "kernelspec": {
   "display_name": "Python 3 (ipykernel)",
   "language": "python",
   "name": "python3"
  },
  "language_info": {
   "codemirror_mode": {
    "name": "ipython",
    "version": 3
   },
   "file_extension": ".py",
   "mimetype": "text/x-python",
   "name": "python",
   "nbconvert_exporter": "python",
   "pygments_lexer": "ipython3",
   "version": "3.12.7"
  }
 },
 "nbformat": 4,
 "nbformat_minor": 5
}
